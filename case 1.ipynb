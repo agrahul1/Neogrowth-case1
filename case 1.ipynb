{
 "cells": [
  {
   "cell_type": "markdown",
   "metadata": {},
   "source": [
    "# Case 1 Code"
   ]
  },
  {
   "cell_type": "code",
   "execution_count": 58,
   "metadata": {},
   "outputs": [],
   "source": [
    "#Importing Libraries\n",
    "import pandas as pd\n",
    "import json\n",
    "from datetime import date\n",
    "import numpy as np"
   ]
  },
  {
   "cell_type": "code",
   "execution_count": 46,
   "metadata": {},
   "outputs": [],
   "source": [
    "#Configuring Global Requirements\n",
    "airportcodes = ['ATL', 'CLT', 'DEN', 'DFW', 'EWR', 'IAH', 'JFK', 'LAS', 'LAX', 'MCO', 'MIA', 'ORD', 'PHX', 'SEA', 'SFO']\n",
    "years = [2016,2017]\n",
    "fields = ['WindSpeedKmph', 'WindDirDegree', 'WeatherCode', 'precipMM', 'Visibility', 'Pressure', 'Cloudcover', 'DewPointF', \n",
    "          'WindGustKmph', 'tempF', 'WindChillF', 'Humidity', 'date', 'time', 'airport']\n",
    "location = 'case 1 data/weather/'"
   ]
  },
  {
   "cell_type": "code",
   "execution_count": 47,
   "metadata": {},
   "outputs": [],
   "source": [
    "#Preprocessing Reqs\n",
    "fields = [field.lower() for field in fields]"
   ]
  },
  {
   "cell_type": "code",
   "execution_count": 48,
   "metadata": {},
   "outputs": [],
   "source": [
    "def createfilelist(years):\n",
    "    return([str(year)+'-'+str(i)+'.json' for i in range(1,13) for year in years])\n",
    "files = createfilelist(years)"
   ]
  },
  {
   "cell_type": "code",
   "execution_count": 80,
   "metadata": {},
   "outputs": [
    {
     "data": {
      "text/plain": [
       "['windspeedKmph',\n",
       " 'DewPointF',\n",
       " 'cloudcover',\n",
       " 'precipMM',\n",
       " 'pressure',\n",
       " 'WindGustKmph',\n",
       " 'visibility',\n",
       " 'weatherCode',\n",
       " 'tempF',\n",
       " 'WindChillF',\n",
       " 'winddirDegree',\n",
       " 'humidity',\n",
       " 'time',\n",
       " 'airport',\n",
       " 'date']"
      ]
     },
     "execution_count": 80,
     "metadata": {},
     "output_type": "execute_result"
    }
   ],
   "source": [
    "collist = list()\n",
    "with open(location + 'ATL/2016-1.json') as json_file:\n",
    "    data = json.load(json_file)\n",
    "    for col in data['data']['weather'][0]['hourly'][0].keys():\n",
    "        if col.lower() in fields:\n",
    "            collist.append(col)\n",
    "collist.append('airport')\n",
    "collist.append('date')"
   ]
  },
  {
   "cell_type": "code",
   "execution_count": 96,
   "metadata": {},
   "outputs": [],
   "source": [
    "for aircode in airportcodes: # for each airport code\n",
    "    a = list()\n",
    "    for file in files: #for each month\n",
    "        with open(location + aircode + '/' + file) as json_file:\n",
    "            data = json.load(json_file)\n",
    "            for day in data['data']['weather']: #for each day of month\n",
    "                for hour in day['hourly']: #for each hour\n",
    "                    tmp = list()\n",
    "                    for val in  hour.keys(): #for each \n",
    "                        if val.lower() in fields:\n",
    "                            tmp.append(hour[val])\n",
    "                            \n",
    "                    tmp.append(data['data']['request'][0]['query'])\n",
    "                    tmp.append(day['date'])\n",
    "                    a.append(tmp)\n",
    "    tmpdf = pd.DataFrame.from_records(a, columns=collist)\n",
    "    tmpdf.set_index(pd.to_datetime(tmpdf['date'] + ' ' + (tmpdf['time'].astype(int)/100).astype(int).astype(str) + ':00:00'),inplace = True)\n",
    "    tmpdf.to_csv(path_or_buf = 'output/'+aircode+'.csv')"
   ]
  }
 ],
 "metadata": {
  "kernelspec": {
   "display_name": "Python 3",
   "language": "python",
   "name": "python3"
  },
  "language_info": {
   "codemirror_mode": {
    "name": "ipython",
    "version": 3
   },
   "file_extension": ".py",
   "mimetype": "text/x-python",
   "name": "python",
   "nbconvert_exporter": "python",
   "pygments_lexer": "ipython3",
   "version": "3.7.1"
  }
 },
 "nbformat": 4,
 "nbformat_minor": 2
}
